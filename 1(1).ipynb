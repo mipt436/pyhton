{
 "cells": [
  {
   "cell_type": "code",
   "execution_count": null,
   "metadata": {},
   "outputs": [],
   "source": [
    "1.Tuple (кортёж)\n",
    "Кортеж - это неизменяемый и более быстрый аналог списка.\n",
    "Он защищает хранимые данные от непреднамеренных изменений и может использоваться в качестве ключа в словарях (словарь - ассоциативный массив в python)."
   ]
  },
  {
   "cell_type": "code",
   "execution_count": null,
   "metadata": {},
   "outputs": [],
   "source": [
    "##2\n",
    "def fib(n):\n",
    "    if n<3:\n",
    "        return 1\n",
    "    return fib(n-1) + fib(n-2)"
   ]
  },
  {
   "cell_type": "code",
   "execution_count": null,
   "metadata": {},
   "outputs": [],
   "source": [
    "##пример рекурсивной функции вычисляющей числа Фибоначчи\n",
    "##Числа Фибоначчи можно вычилсять с помощью форумыл Бине\n",
    "##Тогда она выглядела бы примерно так \n",
    "\n",
    "##from math import floor, sqrt\n",
    "## def fib(n):                                                     \n",
    "##    return int(floor(((1+sqrt(5))**n-(1-sqrt(5))**n)/(2**n*sqrt(5))+0.5))\n",
    "\n",
    "##sys.setrecursionlimit() меняет глубину рекурсии"
   ]
  },
  {
   "cell_type": "code",
   "execution_count": 10,
   "metadata": {},
   "outputs": [
    {
     "name": "stdout",
     "output_type": "stream",
     "text": [
      "\n",
      "Total elapsed: 0.000891336 secs\n"
     ]
    }
   ],
   "source": [
    "import numpy\n",
    "from timeit import default_timer as timer\n",
    "\n",
    "\n",
    "start_time = timer()\n",
    "\n",
    "#\n",
    "# <Описание функций selection, insertion и bubble>\n",
    "#\n",
    "\n",
    "\n",
    "number = 10\n",
    "\n",
    "\n",
    "\n",
    "def my_time_this(function):\n",
    "    items = numpy.copy(ary)\n",
    "\n",
    "    t = timer()\n",
    "    function(items)\n",
    "    elapsed = timer() - t\n",
    "\n",
    " ##   print_format = \"{:<15} {:.10f} secs. number: {}, first 5: {}\"\n",
    "    print(print_format.format(function.__name__, elapsed, len(items), items[:5]))\n",
    "\n",
    "    my_time_this(fib(number))\n",
    "    \n",
    "print()\n",
    "print(\"Total elapsed: {:g} secs\".format(timer() - start_time))\n"
   ]
  },
  {
   "cell_type": "code",
   "execution_count": null,
   "metadata": {},
   "outputs": [],
   "source": [
    "\n"
   ]
  }
 ],
 "metadata": {
  "kernelspec": {
   "display_name": "Python 3",
   "language": "python",
   "name": "python3"
  },
  "language_info": {
   "codemirror_mode": {
    "name": "ipython",
    "version": 3
   },
   "file_extension": ".py",
   "mimetype": "text/x-python",
   "name": "python",
   "nbconvert_exporter": "python",
   "pygments_lexer": "ipython3",
   "version": "3.6.5"
  }
 },
 "nbformat": 4,
 "nbformat_minor": 2
}
